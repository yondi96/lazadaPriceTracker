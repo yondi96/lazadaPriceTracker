{
 "cells": [
  {
   "cell_type": "code",
   "execution_count": 72,
   "id": "d4e73047",
   "metadata": {},
   "outputs": [],
   "source": [
    "# libraries\n",
    "\n",
    "from bs4 import BeautifulSoup\n",
    "import requests\n",
    "import time\n",
    "import datetime\n",
    "import csv\n",
    "import smtplib\n",
    "import pandas as pd"
   ]
  },
  {
   "cell_type": "code",
   "execution_count": 73,
   "id": "69c3aca3",
   "metadata": {},
   "outputs": [
    {
     "name": "stdout",
     "output_type": "stream",
     "text": [
      "\n",
      "            Nylon cable tie strap / ziptie 100pcs/pack (inch=4,6,8,10,12) (mm=100,150,200,250,300)\n",
      "           \n",
      "\n",
      "            ₱30.00\n",
      "           \n",
      "\n",
      "                  3 - 9 day(s)\n",
      "                 \n"
     ]
    }
   ],
   "source": [
    "# connect to the web url\n",
    "\n",
    "URL = 'https://www.lazada.com.ph/products/nylon-cable-tie-strap-ziptie-100pcspack-inch4681012-mm100150200250300-i1829804765-s7783846274.html?spm=a2o4l.home.just4u.8.239e359dlkCqun&&scm=1007.17519.162103.0&pvid=0fb82c44-449c-4c1c-ac85-63628ed54f97&search=0&clickTrackInfo=tctags%3A1949989723+1498575426+830083863%3Btcsceneid%3AHPJFY%3Bbuyernid%3A2963ec89-3aa8-4455-b537-7532b7c6c42b%3Btcboost%3A0%3Bpvid%3A0fb82c44-449c-4c1c-ac85-63628ed54f97%3Bchannel_id%3A0000%3Bmt%3Ahot%3Bitem_id%3A1829804765%3Bself_ab_id%3A162103%3Bself_app_id%3A7519%3Blayer_buckets%3A5437.25236_6059.28891_955.3631_955.3632%3Bpos%3A7%3B'\n",
    "\n",
    "headers = {\"User-Agent\": \"Mozilla/5.0 (Windows NT 10.0; Win64; x64) AppleWebKit/537.36 (KHTML, like Gecko) Chrome/99.0.4844.83 Safari/537.36\", \"Accept-Encoding\": \"gzip, deflate, br\", \"Accept\": \"text/html,application/xhtml+xml,application/xml;q=0.9,image/avif,image/webp,image/apng,*/*;q=0.8,application/signed-exchange;v=b3;q=0.9\", \"DNT\":\"1\",\"Connection\":\"close\", \"Upgrade-Insecure-Requests\":\"1\"}\n",
    "\n",
    "page = requests.get(URL, headers=headers)\n",
    "\n",
    "soup = BeautifulSoup(page.content, \"html.parser\")\n",
    "soup2 = BeautifulSoup(soup.prettify(), \"html.parser\")\n",
    "\n",
    "title = soup2.find(class_=\"pdp-mod-product-badge-title\").get_text()\n",
    "price = soup2.find(class_=\"pdp-price pdp-price_type_normal pdp-price_color_orange pdp-price_size_xl\").get_text()\n",
    "ratings = soup2.find(class_=\"pdp-link pdp-link_size_s pdp-link_theme_blue pdp-review-summary__link\").get_text()\n",
    "delivery_time = soup2.find(class_=\"delivery-option-item__time\").get_text()\n",
    "\n",
    "print(title)\n",
    "print(price)\n",
    "print(delivery_time)"
   ]
  },
  {
   "cell_type": "code",
   "execution_count": 74,
   "id": "08d54621",
   "metadata": {
    "scrolled": true
   },
   "outputs": [
    {
     "name": "stdout",
     "output_type": "stream",
     "text": [
      "Nylon cable tie strap / ziptie 100pcs/pack (inch=4,6,8,10,12) (mm=100,150,200,250,300)\n",
      "30.00\n",
      "2649 Ratings\n"
     ]
    }
   ],
   "source": [
    "# organizing some variables\n",
    "\n",
    "price = price.strip()[1:]\n",
    "title = title.strip()\n",
    "ratings = ratings.strip()\n",
    "delivery_time = delivery_time.strip()\n",
    "\n",
    "print(title)\n",
    "print(price)\n",
    "print(ratings)\n",
    "# price is str"
   ]
  },
  {
   "cell_type": "code",
   "execution_count": 75,
   "id": "518a18d1",
   "metadata": {},
   "outputs": [
    {
     "name": "stdout",
     "output_type": "stream",
     "text": [
      "2022-03-26\n"
     ]
    }
   ],
   "source": [
    "# record datetime\n",
    "today = datetime.date.today()\n",
    "print(today)"
   ]
  },
  {
   "cell_type": "code",
   "execution_count": 76,
   "id": "7fba051e",
   "metadata": {},
   "outputs": [],
   "source": [
    "# for CSV\n",
    "\n",
    "header = ['Title', 'Price', 'Ratings', 'Date', 'Delivery Time']\n",
    "data = [title, price, ratings, today, delivery_time]\n",
    "# data is list\n",
    "\n",
    "# WARNING: ONLY RUN THIS ONCE: DELETES DATA\n",
    "#with open('LazadaDataSet.csv', 'w', newline='', encoding='UTF8') as f:\n",
    "    #writer = csv.writer(f)\n",
    "    #writer.writerow(header)\n",
    "    #writer.writerow(data)"
   ]
  },
  {
   "cell_type": "code",
   "execution_count": 77,
   "id": "67fea27b",
   "metadata": {},
   "outputs": [
    {
     "name": "stdout",
     "output_type": "stream",
     "text": [
      "                                               Title  Price       Ratings  \\\n",
      "0  Nylon cable tie strap / ziptie 100pcs/pack (in...   30.0  2649 Ratings   \n",
      "\n",
      "         Date Delivery Time  \n",
      "0  2022-03-26  3 - 9 day(s)  \n"
     ]
    }
   ],
   "source": [
    "df = pd.read_csv(r'C:\\Users\\Admin\\LazadaDataSet.csv')\n",
    "print(df)"
   ]
  },
  {
   "cell_type": "code",
   "execution_count": 78,
   "id": "30e32446",
   "metadata": {},
   "outputs": [],
   "source": [
    "# appending data to CSV\n",
    "\n",
    "with open('LazadaDataSet.csv', 'a+', newline='', encoding='UTF8') as f:\n",
    "    writer = csv.writer(f)\n",
    "    writer.writerow(data)"
   ]
  },
  {
   "cell_type": "code",
   "execution_count": 80,
   "id": "cbf42a43",
   "metadata": {},
   "outputs": [],
   "source": [
    "# automation\n",
    "\n",
    "def check_price():\n",
    "    URL = 'https://www.lazada.com.ph/products/nylon-cable-tie-strap-ziptie-100pcspack-inch4681012-mm100150200250300-i1829804765-s7783846274.html?spm=a2o4l.home.just4u.8.239e359dlkCqun&&scm=1007.17519.162103.0&pvid=0fb82c44-449c-4c1c-ac85-63628ed54f97&search=0&clickTrackInfo=tctags%3A1949989723+1498575426+830083863%3Btcsceneid%3AHPJFY%3Bbuyernid%3A2963ec89-3aa8-4455-b537-7532b7c6c42b%3Btcboost%3A0%3Bpvid%3A0fb82c44-449c-4c1c-ac85-63628ed54f97%3Bchannel_id%3A0000%3Bmt%3Ahot%3Bitem_id%3A1829804765%3Bself_ab_id%3A162103%3Bself_app_id%3A7519%3Blayer_buckets%3A5437.25236_6059.28891_955.3631_955.3632%3Bpos%3A7%3B'\n",
    "\n",
    "    headers = {\"User-Agent\": \"Mozilla/5.0 (Windows NT 10.0; Win64; x64) AppleWebKit/537.36 (KHTML, like Gecko) Chrome/99.0.4844.83 Safari/537.36\", \"Accept-Encoding\": \"gzip, deflate, br\", \"Accept\": \"text/html,application/xhtml+xml,application/xml;q=0.9,image/avif,image/webp,image/apng,*/*;q=0.8,application/signed-exchange;v=b3;q=0.9\", \"DNT\":\"1\",\"Connection\":\"close\", \"Upgrade-Insecure-Requests\":\"1\"}\n",
    "    page = requests.get(URL, headers=headers)\n",
    "\n",
    "    soup = BeautifulSoup(page.content, \"html.parser\")\n",
    "    soup2 = BeautifulSoup(soup.prettify(), \"html.parser\")\n",
    "\n",
    "    title = soup2.find(class_=\"pdp-mod-product-badge-title\").get_text()\n",
    "    price = soup2.find(class_=\"pdp-price pdp-price_type_normal pdp-price_color_orange pdp-price_size_xl\").get_text()\n",
    "    ratings = soup2.find(class_=\"pdp-link pdp-link_size_s pdp-link_theme_blue pdp-review-summary__link\").get_text()\n",
    "    delivery_time = soup2.find(class_=\"delivery-option-item__time\").get_text()\n",
    "    \n",
    "    price = price.strip()[1:]\n",
    "    title = title.strip()\n",
    "    ratings = ratings.strip()\n",
    "    delivery_time = delivery_time.strip()\n",
    "    \n",
    "    today = datetime.date.today()\n",
    "    \n",
    "    header = ['Title', 'Price', 'Ratings', 'Date', 'Delivery Time']\n",
    "    data = [title, price, ratings, today, delivery_time]\n",
    "\n",
    "    with open('LazadaDataSet.csv', 'a+', newline='', encoding='UTF8') as f:\n",
    "        writer = csv.writer(f)\n",
    "        writer.writerow(data)"
   ]
  },
  {
   "cell_type": "code",
   "execution_count": null,
   "id": "bda05a09",
   "metadata": {},
   "outputs": [],
   "source": [
    "# automate - use check_price function\n",
    "# price checked once a week: 604800secs.\n",
    "\n",
    "while(True):\n",
    "    check_price()\n",
    "    time.sleep(604800)"
   ]
  },
  {
   "cell_type": "code",
   "execution_count": null,
   "id": "741d05b8",
   "metadata": {},
   "outputs": [],
   "source": [
    "# write data to csv\n",
    "df = pd.read_csv(r'C:\\Users\\Admin\\LazadaDataSet.csv')\n",
    "print(df)"
   ]
  },
  {
   "cell_type": "code",
   "execution_count": null,
   "id": "fe0d31a5",
   "metadata": {},
   "outputs": [],
   "source": []
  }
 ],
 "metadata": {
  "kernelspec": {
   "display_name": "Python 3 (ipykernel)",
   "language": "python",
   "name": "python3"
  },
  "language_info": {
   "codemirror_mode": {
    "name": "ipython",
    "version": 3
   },
   "file_extension": ".py",
   "mimetype": "text/x-python",
   "name": "python",
   "nbconvert_exporter": "python",
   "pygments_lexer": "ipython3",
   "version": "3.9.7"
  }
 },
 "nbformat": 4,
 "nbformat_minor": 5
}
